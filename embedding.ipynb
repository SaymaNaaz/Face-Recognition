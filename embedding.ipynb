{
 "cells": [
  {
   "cell_type": "code",
   "execution_count": 1,
   "metadata": {},
   "outputs": [],
   "source": [
    "import sys\n",
    "import cv2\n",
    "import face_recognition\n",
    "import pickle"
   ]
  },
  {
   "cell_type": "code",
   "execution_count": 6,
   "metadata": {},
   "outputs": [
    {
     "name": "stdout",
     "output_type": "stream",
     "text": [
      "enter nameSAYMA\n",
      "enter id001\n"
     ]
    }
   ],
   "source": [
    "name=input(\"enter name\")\n",
    "ref_id=input(\"enter id\")"
   ]
  },
  {
   "cell_type": "code",
   "execution_count": 7,
   "metadata": {},
   "outputs": [],
   "source": [
    "try:\n",
    "    f=open(\"ref_name.pkl\",\"rb\")\n",
    "    ref_dictt=pickle.load(f)\n",
    "    f.close()\n",
    "except:\n",
    "    ref_dictt={}\n",
    "ref_dictt[ref_id]=name\n",
    "f=open(\"ref_name.pkl\",\"wb\")\n",
    "pickle.dump(ref_dictt,f)\n",
    "f.close()\n",
    "try:\n",
    "    f=open(\"ref_embed.pkl\",\"rb\")\n",
    "    embed_dictt=pickle.load(f)\n",
    "    f.close()\n",
    "except:\n",
    "    embed_dictt={}"
   ]
  },
  {
   "cell_type": "code",
   "execution_count": 8,
   "metadata": {},
   "outputs": [],
   "source": [
    "for i in range(2):\n",
    "    key = cv2. waitKey(1)\n",
    "    webcam = cv2.VideoCapture(0)\n",
    "    while True:\n",
    "       \n",
    "        check, frame = webcam.read()\n",
    "        cv2.imshow(\"Capturing\", frame)\n",
    "        small_frame = cv2.resize(frame, (0, 0), fx=0.25, fy=0.25)\n",
    "        rgb_small_frame = small_frame[:, :, ::-1]\n",
    "  \n",
    "        key = cv2.waitKey(1)\n",
    "        if key == ord('s') : \n",
    "            face_locations = face_recognition.face_locations(rgb_small_frame)\n",
    "            if face_locations != []:\n",
    "                face_encoding = face_recognition.face_encodings(frame)[0]\n",
    "                if ref_id in embed_dictt:\n",
    "                    embed_dictt[ref_id]+=[face_encoding]\n",
    "                else:\n",
    "                    embed_dictt[ref_id]=[face_encoding]\n",
    "                webcam.release()\n",
    "                cv2.waitKey(1)\n",
    "                cv2.destroyAllWindows()     \n",
    "                break\n",
    "        elif key == ord('q'):\n",
    "            print(\"Turning off camera.\")\n",
    "            webcam.release()\n",
    "            print(\"Camera off.\")\n",
    "            print(\"Program ended.\")\n",
    "            cv2.destroyAllWindows()\n",
    "            break"
   ]
  },
  {
   "cell_type": "code",
   "execution_count": 9,
   "metadata": {},
   "outputs": [],
   "source": [
    "f=open(\"ref_embed.pkl\",\"wb\")\n",
    "pickle.dump(embed_dictt,f)\n",
    "f.close()"
   ]
  },
  {
   "cell_type": "code",
   "execution_count": null,
   "metadata": {},
   "outputs": [],
   "source": []
  }
 ],
 "metadata": {
  "kernelspec": {
   "display_name": "Python 3",
   "language": "python",
   "name": "python3"
  },
  "language_info": {
   "codemirror_mode": {
    "name": "ipython",
    "version": 3
   },
   "file_extension": ".py",
   "mimetype": "text/x-python",
   "name": "python",
   "nbconvert_exporter": "python",
   "pygments_lexer": "ipython3",
   "version": "3.9.1"
  }
 },
 "nbformat": 4,
 "nbformat_minor": 4
}
